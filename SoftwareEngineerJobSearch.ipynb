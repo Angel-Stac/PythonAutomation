{
 "cells": [
  {
   "cell_type": "code",
   "execution_count": 53,
   "metadata": {},
   "outputs": [],
   "source": [
    "import smtplib\n",
    "import pandas as pd\n",
    "import numpy as np\n",
    "import requests\n",
    "from bs4 import BeautifulSoup\n",
    "import yagmail\n",
    "import schedule\n",
    "import time\n",
    "from selenium import webdriver\n",
    "from selenium.webdriver.common.by import By\n",
    "from selenium.webdriver.chrome.service import Service\n",
    "from selenium.webdriver.chrome.options import Options\n",
    "from selenium.webdriver.common.by import By\n",
    "from selenium.webdriver.support.ui import WebDriverWait\n",
    "from selenium.webdriver.support import expected_conditions as EC\n",
    "import http.client\n",
    "import json\n"
   ]
  },
  {
   "cell_type": "code",
   "execution_count": null,
   "metadata": {},
   "outputs": [
    {
     "name": "stdout",
     "output_type": "stream",
     "text": [
      "Email sent successfully!\n"
     ]
    },
    {
     "data": {
      "text/plain": [
       "(221,\n",
       " b'2.0.0 closing connection d75a77b69052e-467b2ecc128sm14356931cf.79 - gsmtp')"
      ]
     },
     "execution_count": 10,
     "metadata": {},
     "output_type": "execute_result"
    }
   ],
   "source": [
    "#AUTOMATING EMAILS\n",
    "\n",
    "sender_email = \"angelpeters15@gmail.com\"\n",
    "receiver_email = \"angel.peters@cix.csi.cuny.edu\"\n",
    "password = \"xgaa umyz mxzx wowg\"\n",
    "subject = \"Automated Email test\"\n",
    "# Set up the SMTP server\n",
    "server = smtplib.SMTP(\"smtp.gmail.com\", 587)\n",
    "server.starttls()\n",
    "server.login(sender_email, password)\n",
    "\n",
    "# Format the email\n",
    "email_message = f\"Subject: {subject}\\n\\n{\"This is a test\"}\"\n",
    "\n",
    "# Send the email\n",
    "server.sendmail(sender_email, receiver_email, email_message)\n",
    "print(\"Email sent successfully!\")\n",
    "\n",
    "# Close the connection\n",
    "server.quit()\n"
   ]
  },
  {
   "cell_type": "code",
   "execution_count": null,
   "metadata": {},
   "outputs": [
    {
     "name": "stdout",
     "output_type": "stream",
     "text": [
      "Failed to retrieve data: 403\n",
      "No jobs found.\n"
     ]
    }
   ],
   "source": [
    "'''\n",
    "#AUTOMATING JOB SEARCH \n",
    "\n",
    "def scrape_jobs():\n",
    "    url = \"https://www.indeed.com/jobs?q=software+engineer+OR+associate&l=\"\n",
    "    headers = {\n",
    "         \"User-Agent\": \"Mozilla/5.0 (Windows NT 10.0; Win64; x64) AppleWebKit/537.36 (KHTML, like Gecko) Chrome/91.0.4472.124 Safari/537.36\",\n",
    "    \"Accept-Language\": \"en-US,en;q=0.9\",\n",
    "    \"Referer\": \"https://www.google.com/\",\n",
    "    }\n",
    "\n",
    "    response = requests.get(url, headers=headers)\n",
    "    \n",
    "    # Check if the request was successful\n",
    "    if response.status_code != 200:\n",
    "        print(f\"Failed to retrieve data: {response.status_code}\")\n",
    "        return []\n",
    "\n",
    "    soup = BeautifulSoup(response.text, 'html.parser')\n",
    "\n",
    "    # Find job titles and links (modify selectors based on the site's HTML)\n",
    "    jobs = []\n",
    "    for job_card in soup.find_all('a', class_='jcs-JobTitle'):\n",
    "        job_title = job_card.text.strip()\n",
    "        job_link = \"https://www.indeed.com\" + job_card['href']\n",
    "        jobs.append(f\"{job_title}: {job_link}\")\n",
    "    \n",
    "    return jobs\n",
    "\n",
    "# Test the scraper\n",
    "jobs = scrape_jobs()\n",
    "if jobs:\n",
    "    for job in jobs:\n",
    "        print(job)\n",
    "else:\n",
    "    print(\"No jobs found.\")\n",
    "\n",
    "'''\n",
    "\n",
    "\n",
    "\n",
    "\n"
   ]
  },
  {
   "cell_type": "code",
   "execution_count": null,
   "metadata": {},
   "outputs": [
    {
     "name": "stdout",
     "output_type": "stream",
     "text": [
      "No jobs found. Check the URL or query terms.\n"
     ]
    }
   ],
   "source": [
    "jobs = scrape_jobs()\n",
    "for job in jobs:\n",
    "    print(job)"
   ]
  },
  {
   "cell_type": "code",
   "execution_count": 55,
   "metadata": {},
   "outputs": [
    {
     "name": "stdout",
     "output_type": "stream",
     "text": [
      "API Response Status: 200\n",
      "API Response (First 500 characters): {\"totalCount\":15026,\"jobs\":[{\"title\":\"Full Stack Software Engineer - Remote / Web3\",\"location\":\"New York, NY\",\"snippet\":\"&nbsp;...Growing startup is looking for a Senior <b>Software Engineer </b>skilled in Node, TypeScript, React, & AWS!\\r\\n This Jobot Job is hosted by: Sydney Weaver \\r\\n Are you a fit? Easy Apply now by clicking the \\\"Apply\\\" button\\nand sending us your resume. \\r\\n Salary: $150,000 - $250,000...&nbsp;\",\"salary\":\"\",\"source\":\"resume-library.clickast\",\"type\":\"\",\"link\":\"https://jo\n",
      "No Title at Jobot - New York, NY: https://jooble.org/jdp/-8408754861564900220\n",
      "No Title at Disney Entertainment & ESPN Technology - New York, NY: https://jooble.org/jdp/-8736579377955381854\n",
      "No Title at Jobot - New York, NY: https://jooble.org/jdp/-2952365291973991397\n",
      "No Title at Recruiting from Scratch - New York, NY: https://jooble.org/jdp/-4468040698313676372\n",
      "No Title at Disney Entertainment & ESPN Technology - New York, NY: https://jooble.org/jdp/9087188333495177342\n",
      "No Title at Disney Entertainment & ESPN Technology - New York, NY: https://jooble.org/jdp/5375916231300337258\n",
      "No Title at Disney Entertainment & ESPN Technology - New York, NY: https://jooble.org/jdp/-6932101010932837801\n",
      "No Title at Disney Entertainment & ESPN Technology - New York, NY: https://jooble.org/jdp/-519170164567017316\n",
      "No Title at Disney Entertainment & ESPN Technology - New York, NY: https://jooble.org/jdp/-5402145232783849873\n",
      "No Title at Scale AI - New York, NY: https://jooble.org/jdp/-187855025541056598\n",
      "No Title at Microsoft Corporation - New York, NY: https://jooble.org/jdp/-5335156651959124960\n",
      "No Title at New York University - New York, NY: https://jooble.org/jdp/-8034181827072114790\n",
      "No Title at Boeing - New York, NY: https://jooble.org/jdp/4781028744554449799\n",
      "No Title at Childhood Cancer Society - New York, NY: https://jooble.org/jdp/8109329292482632364\n",
      "No Title at Simons Foundation - New York, NY: https://jooble.org/jdp/-9157615465553422394\n",
      "No Title at Medidata Solutions - New York, NY: https://jooble.org/jdp/-7123646639370209085\n",
      "No Title at Sigma Computing - New York, NY: https://jooble.org/jdp/-840709546748747202\n",
      "No Title at Reflexive Concepts - Fort George, NY: https://jooble.org/jdp/5020979270828441236\n",
      "No Title at Dataminr - New York, NY: https://jooble.org/jdp/3264750019939215109\n",
      "No Title at Fastly - New York, NY: https://jooble.org/jdp/6951884176421160198\n",
      "No Title at Block USA - New York, NY: https://jooble.org/jdp/5634189146409790498\n",
      "No Title at Notion, LLC - New York, NY: https://jooble.org/jdp/-1406919299065741651\n",
      "No Title at Collabera - Hoboken, NJ: https://jooble.org/jdp/774000927247229007\n",
      "No Title at Careerbuilder-US - New York, NY: https://jooble.org/jdp/-3062667031287629630\n",
      "No Title at Amorserv - New York, NY: https://jooble.org/jdp/3112459157507132025\n",
      "No Title at Invisible Technologies Inc. Defunct - New York, NY: https://jooble.org/jdp/5778782791776413534\n",
      "No Title at DriveWealth - New York, NY: https://jooble.org/jdp/-7397289445986227925\n",
      "No Title at Pinnacle Group - Jersey City, NJ: https://jooble.org/jdp/4681146487226303323\n",
      "No Title at Amentum - Fort George, NY: https://jooble.org/jdp/6970609891185492727\n",
      "No Title at Justworks - New York, NY: https://jooble.org/jdp/3450661127829429901\n"
     ]
    }
   ],
   "source": [
    "import http.client\n",
    "import json\n",
    "\n",
    "def fetch_jooble_jobs(api_key, job_title=\"software engineer\", location=\"New York\"):\n",
    "    # Jooble API host\n",
    "    host = 'jooble.org'\n",
    "\n",
    "    # Set up the body of the request (JSON query)\n",
    "    body = json.dumps({\n",
    "        \"keywords\": job_title,\n",
    "        \"location\": location\n",
    "    })\n",
    "\n",
    "    # Create an HTTP connection\n",
    "    connection = http.client.HTTPConnection(host)\n",
    "\n",
    "    # Set up headers\n",
    "    headers = {\n",
    "        \"Content-type\": \"application/json\",\n",
    "        \"Authorization\": f\"Bearer {api_key}\"  # Use your API key here\n",
    "    }\n",
    "\n",
    "    # Send the request\n",
    "    try:\n",
    "        # Sending the request to the Jooble API\n",
    "        connection.request('POST', f'/api/{api_key}', body, headers)\n",
    "        response = connection.getresponse()\n",
    "\n",
    "        # Check if the request was successful\n",
    "        if response.status == 200:\n",
    "            print(\"API Response Status:\", response.status)\n",
    "            response_data = response.read().decode('utf-8')  # Decode the response bytes to string\n",
    "\n",
    "            # Print the first 500 characters of the response for debugging\n",
    "            print(\"API Response (First 500 characters):\", response_data[:500])\n",
    "\n",
    "            # Try to parse the response JSON\n",
    "            data = json.loads(response_data)\n",
    "            jobs = data.get(\"jobs\", [])\n",
    "\n",
    "            job_list = []\n",
    "            for job in jobs:\n",
    "                title = job.get(\"jobtitle\", \"No Title\")\n",
    "                company = job.get(\"company\", \"No Company\")\n",
    "                link = job.get(\"link\", \"No Link\")\n",
    "                location = job.get(\"location\", \"No Location\")\n",
    "                job_list.append(f\"{title} at {company} - {location}: {link}\")\n",
    "\n",
    "            return job_list\n",
    "        else:\n",
    "            print(f\"Error fetching jobs: {response.status} - {response.reason}\")\n",
    "            print(\"Full Response:\", response.read().decode('utf-8'))  # Print the full response for more insights\n",
    "            return []\n",
    "\n",
    "    except Exception as e:\n",
    "        print(f\"Error during API request: {e}\")\n",
    "        return []\n",
    "\n",
    "# Use the function to fetch jobs\n",
    "api_key = \"288a2c27-66a8-443a-9028-722bab20f3aa\"  # Your API key\n",
    "jobs = fetch_jooble_jobs(api_key)\n",
    "\n",
    "# Print the fetched jobs\n",
    "if jobs:\n",
    "    for job in jobs:\n",
    "        print(job)\n",
    "else:\n",
    "    print(\"No jobs found.\")\n",
    "\n",
    "\n",
    "\n",
    "\n",
    "\n",
    "   \n",
    "                \n"
   ]
  },
  {
   "cell_type": "code",
   "execution_count": 45,
   "metadata": {},
   "outputs": [],
   "source": [
    "def send_email(job_links):\n",
    "    sender_email = \"angelpeters15@gmail.com\"\n",
    "    app_password = \"xgaa umyz mxzx wowg\"  # Use an App Password\n",
    "    receiver_email = \"angelpeters15@gmail.com\"\n",
    "    \n",
    "    subject = \"Morning Job Listings\"\n",
    "    body = \"Here are the latest job openings:\\n\\n\" + \"\\n\".join(job_links)\n",
    "    \n",
    "    yag = yagmail.SMTP(sender_email, app_password)\n",
    "    yag.send(to=receiver_email, subject=subject, contents=body)\n",
    "    print(\"Email sent successfully!\")"
   ]
  },
  {
   "cell_type": "code",
   "execution_count": null,
   "metadata": {},
   "outputs": [],
   "source": [
    "\n",
    "\n",
    "def job_search():\n",
    "    jobs = fetch_jooble_jobs()\n",
    "    send_email(jobs)\n",
    "\n",
    "# Schedule the task\n",
    "#schedule.every().day.at(\"08:00\").do(job_search)\n",
    "\n",
    "#while True:\n",
    "    #schedule.run_pending()\n",
    "    #time.sleep(1)\n"
   ]
  },
  {
   "cell_type": "code",
   "execution_count": 47,
   "metadata": {},
   "outputs": [
    {
     "name": "stdout",
     "output_type": "stream",
     "text": [
      "An error occurred: name 'proxies' is not defined\n",
      "Email sent successfully!\n"
     ]
    }
   ],
   "source": [
    "job_search()"
   ]
  }
 ],
 "metadata": {
  "kernelspec": {
   "display_name": "Python 3",
   "language": "python",
   "name": "python3"
  },
  "language_info": {
   "codemirror_mode": {
    "name": "ipython",
    "version": 3
   },
   "file_extension": ".py",
   "mimetype": "text/x-python",
   "name": "python",
   "nbconvert_exporter": "python",
   "pygments_lexer": "ipython3",
   "version": "3.13.0"
  }
 },
 "nbformat": 4,
 "nbformat_minor": 2
}
